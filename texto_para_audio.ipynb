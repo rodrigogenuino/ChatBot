{
  "nbformat": 4,
  "nbformat_minor": 0,
  "metadata": {
    "colab": {
      "provenance": []
    },
    "kernelspec": {
      "name": "python3",
      "display_name": "Python 3"
    },
    "language_info": {
      "name": "python"
    }
  },
  "cells": [
    {
      "cell_type": "code",
      "execution_count": 11,
      "metadata": {
        "colab": {
          "base_uri": "https://localhost:8080/"
        },
        "id": "7oAsce0294qX",
        "outputId": "f41251a1-5a2c-41df-9003-19839df0abcc"
      },
      "outputs": [
        {
          "output_type": "stream",
          "name": "stdout",
          "text": [
            "Requirement already satisfied: gTTS in /usr/local/lib/python3.10/dist-packages (2.4.0)\n",
            "Requirement already satisfied: requests<3,>=2.27 in /usr/local/lib/python3.10/dist-packages (from gTTS) (2.31.0)\n",
            "Requirement already satisfied: click<8.2,>=7.1 in /usr/local/lib/python3.10/dist-packages (from gTTS) (8.1.7)\n",
            "Requirement already satisfied: charset-normalizer<4,>=2 in /usr/local/lib/python3.10/dist-packages (from requests<3,>=2.27->gTTS) (3.3.2)\n",
            "Requirement already satisfied: idna<4,>=2.5 in /usr/local/lib/python3.10/dist-packages (from requests<3,>=2.27->gTTS) (2.10)\n",
            "Requirement already satisfied: urllib3<3,>=1.21.1 in /usr/local/lib/python3.10/dist-packages (from requests<3,>=2.27->gTTS) (2.0.7)\n",
            "Requirement already satisfied: certifi>=2017.4.17 in /usr/local/lib/python3.10/dist-packages (from requests<3,>=2.27->gTTS) (2023.7.22)\n",
            "Requirement already satisfied: SpeechRecognition in /usr/local/lib/python3.10/dist-packages (3.10.0)\n",
            "Requirement already satisfied: requests>=2.26.0 in /usr/local/lib/python3.10/dist-packages (from SpeechRecognition) (2.31.0)\n",
            "Requirement already satisfied: charset-normalizer<4,>=2 in /usr/local/lib/python3.10/dist-packages (from requests>=2.26.0->SpeechRecognition) (3.3.2)\n",
            "Requirement already satisfied: idna<4,>=2.5 in /usr/local/lib/python3.10/dist-packages (from requests>=2.26.0->SpeechRecognition) (2.10)\n",
            "Requirement already satisfied: urllib3<3,>=1.21.1 in /usr/local/lib/python3.10/dist-packages (from requests>=2.26.0->SpeechRecognition) (2.0.7)\n",
            "Requirement already satisfied: certifi>=2017.4.17 in /usr/local/lib/python3.10/dist-packages (from requests>=2.26.0->SpeechRecognition) (2023.7.22)\n",
            "Requirement already satisfied: googletrans==4.0.0-rc1 in /usr/local/lib/python3.10/dist-packages (4.0.0rc1)\n",
            "Requirement already satisfied: httpx==0.13.3 in /usr/local/lib/python3.10/dist-packages (from googletrans==4.0.0-rc1) (0.13.3)\n",
            "Requirement already satisfied: certifi in /usr/local/lib/python3.10/dist-packages (from httpx==0.13.3->googletrans==4.0.0-rc1) (2023.7.22)\n",
            "Requirement already satisfied: hstspreload in /usr/local/lib/python3.10/dist-packages (from httpx==0.13.3->googletrans==4.0.0-rc1) (2023.1.1)\n",
            "Requirement already satisfied: sniffio in /usr/local/lib/python3.10/dist-packages (from httpx==0.13.3->googletrans==4.0.0-rc1) (1.3.0)\n",
            "Requirement already satisfied: chardet==3.* in /usr/local/lib/python3.10/dist-packages (from httpx==0.13.3->googletrans==4.0.0-rc1) (3.0.4)\n",
            "Requirement already satisfied: idna==2.* in /usr/local/lib/python3.10/dist-packages (from httpx==0.13.3->googletrans==4.0.0-rc1) (2.10)\n",
            "Requirement already satisfied: rfc3986<2,>=1.3 in /usr/local/lib/python3.10/dist-packages (from httpx==0.13.3->googletrans==4.0.0-rc1) (1.5.0)\n",
            "Requirement already satisfied: httpcore==0.9.* in /usr/local/lib/python3.10/dist-packages (from httpx==0.13.3->googletrans==4.0.0-rc1) (0.9.1)\n",
            "Requirement already satisfied: h11<0.10,>=0.8 in /usr/local/lib/python3.10/dist-packages (from httpcore==0.9.*->httpx==0.13.3->googletrans==4.0.0-rc1) (0.9.0)\n",
            "Requirement already satisfied: h2==3.* in /usr/local/lib/python3.10/dist-packages (from httpcore==0.9.*->httpx==0.13.3->googletrans==4.0.0-rc1) (3.2.0)\n",
            "Requirement already satisfied: hyperframe<6,>=5.2.0 in /usr/local/lib/python3.10/dist-packages (from h2==3.*->httpcore==0.9.*->httpx==0.13.3->googletrans==4.0.0-rc1) (5.2.0)\n",
            "Requirement already satisfied: hpack<4,>=3.0 in /usr/local/lib/python3.10/dist-packages (from h2==3.*->httpcore==0.9.*->httpx==0.13.3->googletrans==4.0.0-rc1) (3.0.0)\n",
            "Reading package lists... Done\n",
            "Building dependency tree... Done\n",
            "Reading state information... Done\n",
            "python3-pyaudio is already the newest version (0.2.11-1.3ubuntu1).\n",
            "0 upgraded, 0 newly installed, 0 to remove and 6 not upgraded.\n",
            "Requirement already satisfied: SpeechRecognition in /usr/local/lib/python3.10/dist-packages (3.10.0)\n",
            "Requirement already satisfied: requests>=2.26.0 in /usr/local/lib/python3.10/dist-packages (from SpeechRecognition) (2.31.0)\n",
            "Requirement already satisfied: charset-normalizer<4,>=2 in /usr/local/lib/python3.10/dist-packages (from requests>=2.26.0->SpeechRecognition) (3.3.2)\n",
            "Requirement already satisfied: idna<4,>=2.5 in /usr/local/lib/python3.10/dist-packages (from requests>=2.26.0->SpeechRecognition) (2.10)\n",
            "Requirement already satisfied: urllib3<3,>=1.21.1 in /usr/local/lib/python3.10/dist-packages (from requests>=2.26.0->SpeechRecognition) (2.0.7)\n",
            "Requirement already satisfied: certifi>=2017.4.17 in /usr/local/lib/python3.10/dist-packages (from requests>=2.26.0->SpeechRecognition) (2023.7.22)\n"
          ]
        }
      ],
      "source": [
        "!pip install gTTS  # Para a conversão de texto para fala\n",
        "!pip install googletrans==4.0.0-rc1  # Para a tradução de texto\n",
        "!apt-get install -y python3-pyaudio # Para interagir com o áudio\n",
        "!pip install SpeechRecognition # Para reconhecimento de fala"
      ]
    },
    {
      "cell_type": "code",
      "source": [
        "from gtts import gTTS\n",
        "import speech_recognition as sr\n",
        "from googletrans import Translator\n",
        "\n",
        "# função texto para voz\n",
        "def text_to_speech(text, language='pt'):\n",
        "    tts = gTTS(text=text, lang=language)\n",
        "    return tts\n",
        "\n",
        "# função tradução do portugues para ingles\n",
        "def translate_text(text, target_language='en'):\n",
        "    translator = Translator()\n",
        "    translated_text = translator.translate(text, dest=target_language)\n",
        "    return translated_text.text\n"
      ],
      "metadata": {
        "id": "TbxlwTjx-Bkb"
      },
      "execution_count": 12,
      "outputs": []
    },
    {
      "cell_type": "code",
      "source": [
        "\n",
        "# Exemplo de uso.... seu texto abaixo\n",
        "input_text = '''Bailando no ar, gemia inquieto vaga-lume:\n",
        "              – Quem me dera que fosse aquela loura estrela,\n",
        "              Que arde no eterno azul, como uma eterna vela!\n",
        "              Mas a estrela, fitando a lua, com ciúme:\n",
        "\n",
        "              – Pudesse eu copiar o transparente lume,\n",
        "              Que, da grega coluna á gótica janela,\n",
        "              Contemplou, suspirosa, a fronte amada e bela!\n",
        "              Mas a lua, fitando o sol, com azedume:\n",
        "\n",
        "              – Mísera! tivesse eu aquela enorme, aquela\n",
        "              Claridade imortal, que toda a luz resume!\n",
        "              Mas o sol, inclinando a rútila capela:\n",
        "\n",
        "              – Pesa-me esta brilhante auréola de nume...\n",
        "              Enfara-me esta azul e desmedida umbela...\n",
        "              Porque não nasci eu um simples vaga-lume?'''\n",
        "\n"
      ],
      "metadata": {
        "id": "EWK3Dg0X-LYn"
      },
      "execution_count": 13,
      "outputs": []
    },
    {
      "cell_type": "code",
      "source": [
        "# utiliza a função para cria o texto em voz\n",
        "tts = text_to_speech(input_text)\n",
        "# salva como mp3\n",
        "tts.save('output.mp3')"
      ],
      "metadata": {
        "id": "hxaZ2KZSNj4c"
      },
      "execution_count": null,
      "outputs": []
    },
    {
      "cell_type": "code",
      "source": [
        "# usa a função para traduzir para o ingles\n",
        "translated_text = translator.translate(input_text, dest='en').text\n",
        "\n",
        "print(f\"Texto original:\\n{input_text}\\n\")\n",
        "print(f\"Texto traduzido para inglês:\\n{translated_text}\")"
      ],
      "metadata": {
        "colab": {
          "base_uri": "https://localhost:8080/"
        },
        "id": "bFn8noArBfFB",
        "outputId": "78233d4f-e131-446d-82ad-03eb7c7f1f13"
      },
      "execution_count": 16,
      "outputs": [
        {
          "output_type": "stream",
          "name": "stdout",
          "text": [
            "Texto original:\n",
            "Bailando no ar, gemia inquieto vaga-lume:\n",
            "              – Quem me dera que fosse aquela loura estrela,\n",
            "              Que arde no eterno azul, como uma eterna vela!\n",
            "              Mas a estrela, fitando a lua, com ciúme:\n",
            "\n",
            "              – Pudesse eu copiar o transparente lume,\n",
            "              Que, da grega coluna á gótica janela,\n",
            "              Contemplou, suspirosa, a fronte amada e bela!\n",
            "              Mas a lua, fitando o sol, com azedume:\n",
            "\n",
            "              – Mísera! tivesse eu aquela enorme, aquela\n",
            "              Claridade imortal, que toda a luz resume!\n",
            "              Mas o sol, inclinando a rútila capela:\n",
            "\n",
            "              – Pesa-me esta brilhante auréola de nume...\n",
            "              Enfara-me esta azul e desmedida umbela...\n",
            "              Porque não nasci eu um simples vaga-lume?\n",
            "\n",
            "Texto traduzido para inglês:\n",
            "Dancing in the air, moaned restless firefly:\n",
            "              - I wish I was that blonde star,\n",
            "              That burns in the eternal blue, like an eternal candle!\n",
            "              But the star, staring at the moon, jealous:\n",
            "\n",
            "              - I could copy the transparent fire,\n",
            "              That, from the Greek column to the Gothic window,\n",
            "              It contemplated, sighly, the beloved and beautiful forehead!\n",
            "              But the moon, staring at the sun, with sour:\n",
            "\n",
            "              - Misere!I had that huge, that\n",
            "              Immortal clarity, which all light summarizes!\n",
            "              But the sun, tilting the chapel rut:\n",
            "\n",
            "              -Weigh me this brilliant halo de nume ...\n",
            "              Flood me this blue and excessive umbela ...\n",
            "              Why wasn't I born a simple firefly?\n"
          ]
        }
      ]
    },
    {
      "cell_type": "code",
      "source": [
        "# utiliza a função para cria o texto em voz (nesse caso pegando o texto em ingles)\n",
        "tts = text_to_speech(translated_text)\n",
        "# salva o audio em mp3\n",
        "tts.save('output_ingles.mp3')"
      ],
      "metadata": {
        "id": "CvfOic85Bxh3"
      },
      "execution_count": 15,
      "outputs": []
    }
  ]
}