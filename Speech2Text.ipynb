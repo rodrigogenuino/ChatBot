{
  "nbformat": 4,
  "nbformat_minor": 0,
  "metadata": {
    "colab": {
      "provenance": []
    },
    "kernelspec": {
      "name": "python3",
      "display_name": "Python 3"
    },
    "language_info": {
      "name": "python"
    }
  },
  "cells": [
    {
      "cell_type": "code",
      "execution_count": null,
      "metadata": {
        "colab": {
          "base_uri": "https://localhost:8080/"
        },
        "id": "4hZBYJaZUydT",
        "outputId": "717bd95a-8b6e-4d94-b4b2-941b675d44cd"
      },
      "outputs": [
        {
          "output_type": "stream",
          "name": "stdout",
          "text": [
            "Collecting SpeechRecognition\n",
            "  Downloading SpeechRecognition-3.10.0-py2.py3-none-any.whl (32.8 MB)\n",
            "\u001b[2K     \u001b[90m━━━━━━━━━━━━━━━━━━━━━━━━━━━━━━━━━━━━━━━━\u001b[0m \u001b[32m32.8/32.8 MB\u001b[0m \u001b[31m47.4 MB/s\u001b[0m eta \u001b[36m0:00:00\u001b[0m\n",
            "\u001b[?25hRequirement already satisfied: requests>=2.26.0 in /usr/local/lib/python3.10/dist-packages (from SpeechRecognition) (2.31.0)\n",
            "Requirement already satisfied: charset-normalizer<4,>=2 in /usr/local/lib/python3.10/dist-packages (from requests>=2.26.0->SpeechRecognition) (3.3.2)\n",
            "Requirement already satisfied: idna<4,>=2.5 in /usr/local/lib/python3.10/dist-packages (from requests>=2.26.0->SpeechRecognition) (3.4)\n",
            "Requirement already satisfied: urllib3<3,>=1.21.1 in /usr/local/lib/python3.10/dist-packages (from requests>=2.26.0->SpeechRecognition) (2.0.7)\n",
            "Requirement already satisfied: certifi>=2017.4.17 in /usr/local/lib/python3.10/dist-packages (from requests>=2.26.0->SpeechRecognition) (2023.7.22)\n",
            "Installing collected packages: SpeechRecognition\n",
            "Successfully installed SpeechRecognition-3.10.0\n",
            "Collecting pydub\n",
            "  Downloading pydub-0.25.1-py2.py3-none-any.whl (32 kB)\n",
            "Installing collected packages: pydub\n",
            "Successfully installed pydub-0.25.1\n"
          ]
        }
      ],
      "source": [
        "!pip install SpeechRecognition\n",
        "!pip install pydub"
      ]
    },
    {
      "cell_type": "code",
      "source": [
        "import speech_recognition as sr\n",
        "from pydub import AudioSegment\n",
        "from pydub.utils import make_chunks\n",
        "import matplotlib.pyplot as plt\n",
        "from wordcloud import WordCloud"
      ],
      "metadata": {
        "id": "iDmKTJIKWyeK"
      },
      "execution_count": null,
      "outputs": []
    },
    {
      "cell_type": "code",
      "source": [
        "# arquivos\n",
        "audio_mp3 = 'textoBOTGoogle.mp3' # audio que você vai converter para texto formato mp3\n",
        "audio_wav = 'textoBOTGoogle.wav' # audio que você vai converter para texto formato wav\n",
        "\n",
        "# conversão de mp3 para wav\n",
        "sound = AudioSegment.from_mp3(audio_mp3)\n",
        "sound.export(audio_wav, format='wav')"
      ],
      "metadata": {
        "colab": {
          "base_uri": "https://localhost:8080/"
        },
        "id": "5BpyfTRkW3aJ",
        "outputId": "d54088d5-fe0e-4ba1-b85a-f85b482264cd"
      },
      "execution_count": null,
      "outputs": [
        {
          "output_type": "execute_result",
          "data": {
            "text/plain": [
              "<_io.BufferedRandom name='textoBOTGoogle.mp3'>"
            ]
          },
          "metadata": {},
          "execution_count": 7
        }
      ]
    },
    {
      "cell_type": "code",
      "source": [
        "# selecionando audio\n",
        "audio = AudioSegment.from_file(audio_wav, 'wav')\n",
        "# Tamanho em milisegundos\n",
        "tamanho = 30000\n",
        "# divisão do audio em partes\n",
        "partes = make_chunks (audio, tamanho)\n",
        "partes_audio =[]\n",
        "for i, parte in enumerate(partes):\n",
        "    # Enumerando arquivo particionado\n",
        "    parte_name = 'Parte{0}.wav'.format(i)\n",
        "    # Guardando os nomes das partições em uma lista\n",
        "    partes_audio.append(parte_name)\n",
        "    # Exportando arquivos\n",
        "    parte.export(parte_name, format='wav')"
      ],
      "metadata": {
        "id": "fJCQnvG1W71x"
      },
      "execution_count": null,
      "outputs": []
    },
    {
      "cell_type": "code",
      "source": [
        "def transcreve_audio(nome_audio):\n",
        "  # Selecione o audio para reconhecimento\n",
        "  r = sr.Recognizer()\n",
        "  with sr.AudioFile(nome_audio) as source:\n",
        "    audio = r.record(source)  # leitura do arquivo de audio\n",
        "\n",
        "  # Reconhecimento usando o Google Speech Recognition\n",
        "  try:\n",
        "    print('Google Speech Recognition: ' + r.recognize_google(audio,language='pt-BR'))\n",
        "    texto = r.recognize_google(audio,language='pt-BR')\n",
        "  except sr.UnknownValueError:\n",
        "    print('Google Speech Recognition NÃO ENTENDEU o audio')\n",
        "    texto = ''\n",
        "  except sr.RequestError as e:\n",
        "    print('Erro ao solicitar resultados do serviço Google Speech Recognition; {0}'.format(e))\n",
        "    texto = ''\n",
        "  return texto"
      ],
      "metadata": {
        "id": "r4Bi3IwUXDt1"
      },
      "execution_count": null,
      "outputs": []
    },
    {
      "cell_type": "code",
      "source": [
        "# Aplicando a função de reconhecimento de voz em cada parte\n",
        "texto = ''\n",
        "for parte in partes_audio:\n",
        "  texto = texto + ' ' + transcreve_audio(parte)"
      ],
      "metadata": {
        "colab": {
          "base_uri": "https://localhost:8080/"
        },
        "id": "m9v3bxRHXI4A",
        "outputId": "45e28dad-6cce-471a-de1a-646eee6e1ffc"
      },
      "execution_count": null,
      "outputs": [
        {
          "output_type": "stream",
          "name": "stdout",
          "text": [
            "Google Speech Recognition: o agregado nem sempre ia naquele passo vagaroso e rígido também se descompunha em acionadas era muitas vezes rápido e rápido nos movimentos Tão natural nesta como naquela maneira outros sim que é largo se era preciso de um grande riso sem vontade mas comunicativo até o ponto as bochechas os dentes os olhos toda a cara toda a pessoa todo mundo parecia um\n",
            "Google Speech Recognition: nos lances graves gravíssimo era nosso agregado desde muitos anos meu pai ainda estava na antiga Fazenda de Itaguaí e eu acabava de nascer um dia apareceu ali vendendo-se por Médico homeopata levava um manual e uma Botica havia então um abraço de febres José Dias curou o feitor e uma escrava e não quis receber nenhuma remuneração então meu\n",
            "Google Speech Recognition: José Dias recusou dizendo que era justo levar a saúde a casa de Sapé do pobre quem lhe impede que vá outras partes vá aonde quiser mas fique morando conosco voltarei daqui a três meses voltou dali há duas semanas aceitou casa e comida sem outro beijo salvo o que quisesse dar por festas quando meu pai\n",
            "Google Speech Recognition: eleito Deputado e veio para o Rio de Janeiro com a família ele veio também e teve o seu quarto ao fundo da Chácara um dia reinando outra vez febres em Itaguaí disse-lhe meu pai que fosse ver a nossa escravatura José Dias deixou-se estar Calado suspirou e acabou confessando que não era médico Tomara este título para ajudar a propaganda da nova escola e não oferecem estudar muito e muito\n",
            "Google Speech Recognition: Mas a consciência não lhe permitia aceitar mais doentes Mas você curou das outras vezes Creio que sim mas acertado porém é dizer que foram os remédios indicados nos livros eles sim eles abaixo de Deus eu era um charlatão Não negue os motivos do meu procedimento podiam ser eram dignos a homeopatia é a verdade e para servir a verdade\n",
            "Google Speech Recognition: mas é tempo de restabelecer tudo não foi despedido Como pedir então meu pai já não podia dispensá-lo tinha o dom de se fazer aceito e necessário dava-se por falta dele como de pessoa da família quando meu pai morreu a dor que fugiu foi enorme disseram-me não me lembra Minha mãe ficou muito grata e não consentiu que ele deixasse o quarto da Chácara ao sétimo\n",
            "Google Speech Recognition: depois da missa ele foi despedir-se dela fique José Dias obedeço minha senhora teve um pequeno legado no Testamento uma apólice quatro palavras de louvor copiou as palavras encaixilhou-as e pendurou-as no quarto por cima da cama Esta é a melhor apólice dizia ele muitas vezes com o tempo adquiriu certa autoridade na família certa\n",
            "Google Speech Recognition: ao menos não abusava e sabia opinar obedecendo ao cabo era amigo não direi ótimo mas nem tudo é ótimo neste mundo e não lhe suponha as almas subalterna as cortesias que fizesse vinham antes do cálculo que da índole a roupa durava-lhe muito ao contrário das pessoas que enxovalham de preço vestido novo ele trazia o velho escovado e liso servido\n",
            "Google Speech Recognition: de uma elegância pobre e modesta era lido posto que de atropelo o bastante para divertir ao serão e a sobremesa ou explicar algum fenômeno falar dos efeitos do calor e do frio dos polos e de robespierre contava muitas vezes uma viagem que fizera a Europa e confessava que a não sermos nós já teria voltado para lá tinha amigos em Lisboa Mas a nossa família dizia\n",
            "Google Speech Recognition: abaixo de deus era tudo abaixo ou acima perguntou-lhe tio Cosme um dia abaixo refletiu José Dias cheio de veneração e minha mãe que era religiosa Gostou de ver que ele punha Deus no devido lugar e Sorriu aprovando José Dias agradeceu de cabeça minha mãe dava-lhe de quando em quando alguns pobres tio cosme que era advogado\n",
            "Google Speech Recognition: javali a cópia de papéis de autos\n"
          ]
        }
      ]
    },
    {
      "cell_type": "code",
      "source": [],
      "metadata": {
        "id": "G67-JCq6XNp9"
      },
      "execution_count": null,
      "outputs": []
    }
  ]
}